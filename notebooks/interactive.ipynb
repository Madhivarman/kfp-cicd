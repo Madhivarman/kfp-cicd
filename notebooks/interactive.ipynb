{
 "cells": [
  {
   "cell_type": "code",
   "execution_count": null,
   "metadata": {},
   "outputs": [],
   "source": [
    "# implement you experimentation code...."
   ]
  },
  {
   "cell_type": "markdown",
   "metadata": {},
   "source": [
    "## Import the required libraries"
   ]
  },
  {
   "cell_type": "code",
   "execution_count": 1,
   "metadata": {},
   "outputs": [],
   "source": [
    "import kfp\n",
    "import kfp.dsl as dsl\n",
    "from datetime import datetime\n",
    "import kfp.compiler as compiler"
   ]
  },
  {
   "cell_type": "markdown",
   "metadata": {},
   "source": [
    "## Load the pipeline components"
   ]
  },
  {
   "cell_type": "code",
   "execution_count": null,
   "metadata": {},
   "outputs": [],
   "source": [
    "component_store = kfp.components.ComponentStore(\n",
    "  local_search_paths=["components"])"
   ]
  },
  {
   "cell_type": "markdown",
   "metadata": {},
   "source": [
    "## Create pipeline ops"
   ]
  },
  {
   "cell_type": "code",
   "execution_count": null,
   "metadata": {},
   "outputs": [],
   "source": [
    "add_op = component_store.load_component("my_add")\n",
    "divide_op = component_store.load_component("my_divide")"
   ]
  },
  {
   "cell_type": "markdown",
   "metadata": {},
   "source": [
    "## Define pipeline"
   ]
  },
  {
   "cell_type": "code",
   "execution_count": null,
   "metadata": {},
   "outputs": [],
   "source": [
    "def pipeline(\n",
    "  x_value: int=1,\n",
    "  y_value: int=1,\n",
    "  z_value: int=1,\n",
    "):\n",
    "\n",
    "  add_step = add_op(x_value=x_value, y_value=y_value)\n",
    "  add_step.set_display_name("Add x and y")\n",
    "  add_result = add_step.outputs\n",
    "  sum_value = add_result["sum"]\n",
    "  is_even = sum_value != 0\n",
    "  with kfp.dsl.Condition(is_even):\n",
    "    divide_step = divide_op(x_value=sum_value, y_value=z_value)\n",
    "    divide_step.set_display_name("Divide sum by z")\n",
    "    add_step2 = add_op(\n",
    "      x_value=divide_step.outputs["quotient"],\n",
    "      y_value=divide_step.outputs["remainder"])\n",
    "    add_step2.set_display_name("Add quotient and remainder")"
   ]
  },
  {
   "cell_type": "markdown",
   "metadata": {},
   "source": [
    "## Compile pipeline"
   ]
  },
  {
   "cell_type": "code",
   "execution_count": null,
   "metadata": {},
   "outputs": [],
   "source": [
    "compiler.Compiler().compile(\n",
    "    pipeline, "pipeline.tar.gz")"
   ]
  },
  {
   "cell_type": "markdown",
   "metadata": {},
   "source": [
    "## Run pipeline"
   ]
  },
  {
   "cell_type": "code",
   "execution_count": null,
   "metadata": {},
   "outputs": [],
   "source": [
    "args = {\n",
    "    "x_value": 1,\n",
    "    "y_value": 1,\n",
    "    "z_value": 2,\n",
    "    \n",
    "}\n",
    "\n",
    "client = kfp.Client(namespace="kubeflow")\n",
    "run_id = "run-" + datetime.now().strftime("%Y%m%d-%H%M%S")\n",
    "experiment = client.create_experiment(name="exp-dev")\n",
    "\n",
    "client.run_pipeline(\n",
    "    experiment.id,\n",
    "    job_name=run_id,\n",
    "    pipeline_package_path=pipeline_package,\n",
    "    params=args\n",
    ")"
   ]
  }
 ],
 "metadata": {
  "kernelspec": {
   "display_name": "py36-venv",
   "language": "python",
   "name": "py36-venv"
  },
  "language_info": {
   "codemirror_mode": {
    "name": "ipython",
    "version": 3
   },
   "file_extension": ".py",
   "mimetype": "text/x-python",
   "name": "python",
   "nbconvert_exporter": "python",
   "pygments_lexer": "ipython3",
   "version": "3.6.4"
  }
 },
 "nbformat": 4,
 "nbformat_minor": 2
}
